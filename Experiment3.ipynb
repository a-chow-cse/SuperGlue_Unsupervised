{
 "cells": [
  {
   "cell_type": "code",
   "execution_count": 2,
   "id": "1594eb5d",
   "metadata": {},
   "outputs": [],
   "source": [
    "import os\n",
    "import matplotlib.pyplot as plt\n",
    "from itertools import combinations\n",
    "import numpy as np\n",
    "from PIL import Image as im\n",
    "from PIL import Image\n",
    "import shutil\n",
    "import math"
   ]
  },
  {
   "cell_type": "code",
   "execution_count": 48,
   "id": "c8d48f69",
   "metadata": {},
   "outputs": [],
   "source": [
    "path = 'Experiment2/MatchNumbersTable.npz'\n",
    "number_of_matches_between_every_image = np.load(path)['arr_0']\n",
    "TotalImage=number_of_matches_between_every_image.shape[0]\n",
    "\n",
    "path = 'Experiment2/2D_list_of_all_npzs_with_class.npz'\n",
    "name_of_npzfile_between_each_pair_with_className_of_rowImg = np.load(path)['arr_0']\n",
    "class_name_of_each_rowImg=name_of_npzfile_between_each_pair_with_className_of_rowImg[:,TotalImage]\n",
    "\n",
    "class_names=list(set(class_name_of_each_rowImg))\n",
    "class_name_of_each_rowImg=np.reshape(class_name_of_each_rowImg,(TotalImage,1))\n",
    "number_of_matches_between_every_image_with_className=np.append(number_of_matches_between_every_image,class_name_of_each_rowImg,1)\n",
    "\n"
   ]
  },
  {
   "cell_type": "code",
   "execution_count": 106,
   "id": "19d9b74c",
   "metadata": {},
   "outputs": [],
   "source": [
    "def create_dataset_wrt_k(k_given,percentage,number_of_matches_between_every_image_with_className,class_names,class_name_of_each_rowImg):\n",
    "    \n",
    "    k=k_given\n",
    "    X=[]\n",
    "    Y=[]\n",
    "    TotalImage=number_of_matches_between_every_image_with_className.shape[0]\n",
    "\n",
    "    for mainImgNumber in range(1):\n",
    "        x=[]\n",
    "        for currentClassName in class_names:\n",
    "            #print(currentClassName)\n",
    "            number_of_matches_per_class=[]\n",
    "\n",
    "            for i in range(TotalImage):\n",
    "                if i!= mainImgNumber and class_name_of_each_rowImg[i]==currentClassName:\n",
    "                    number_of_matches_per_class.append(number_of_matches_between_every_image_with_className[mainImgNumber,i])\n",
    "\n",
    "            number_of_matches_per_class=np.sort(number_of_matches_per_class)\n",
    "            \n",
    "            if percentage==True:\n",
    "                k=math.ceil(len(number_of_matches_per_class)*(k_given/100))\n",
    "            print(\"Number of matches this class: \",len(number_of_matches_per_class),\" after editing k = \",k)\n",
    "            \n",
    "            average_match_wrt_k=np.sum(number_of_matches_per_class[-k:].astype(float).astype(int))/k\n",
    "            x.append(average_match_wrt_k)\n",
    "        #plt.barh(class_names,x)\n",
    "        #plt.xlabel(\"Avg Number of matches per class\")\n",
    "        #plt.ylabel(\"Class Name\")\n",
    "        #plt.title(\"Class: erato_petiverana Image_1 \")\n",
    "        #plt.show()\n",
    "        X.append(x)\n",
    "        Y.append(number_of_matches_between_every_image_with_className[mainImgNumber,TotalImage])\n",
    "\n",
    "    X=np.reshape(X,(TotalImage,len(class_names)))\n",
    "    Y=np.reshape(Y,(TotalImage,1))\n",
    "    print(X.shape)\n",
    "    print(Y.shape)\n",
    "    \n",
    "    return X,Y"
   ]
  },
  {
   "cell_type": "code",
   "execution_count": 107,
   "id": "d8c5cbba",
   "metadata": {},
   "outputs": [
    {
     "name": "stdout",
     "output_type": "stream",
     "text": [
      "Number of matches this class:  50  after editing k =  10\n",
      "Number of matches this class:  6  after editing k =  2\n",
      "Number of matches this class:  4  after editing k =  1\n",
      "Number of matches this class:  3  after editing k =  1\n",
      "Number of matches this class:  10  after editing k =  2\n",
      "Number of matches this class:  3  after editing k =  1\n",
      "Number of matches this class:  2  after editing k =  1\n",
      "Number of matches this class:  19  after editing k =  4\n",
      "Number of matches this class:  3  after editing k =  1\n",
      "Number of matches this class:  6  after editing k =  2\n",
      "Number of matches this class:  10  after editing k =  2\n",
      "Number of matches this class:  22  after editing k =  5\n",
      "Number of matches this class:  2  after editing k =  1\n",
      "Number of matches this class:  11  after editing k =  3\n",
      "Number of matches this class:  2  after editing k =  1\n",
      "Number of matches this class:  23  after editing k =  5\n",
      "Number of matches this class:  10  after editing k =  2\n",
      "Number of matches this class:  14  after editing k =  3\n",
      "Number of matches this class:  8  after editing k =  2\n",
      "Number of matches this class:  3  after editing k =  1\n",
      "Number of matches this class:  7  after editing k =  2\n",
      "Number of matches this class:  10  after editing k =  2\n",
      "Number of matches this class:  60  after editing k =  12\n",
      "Number of matches this class:  12  after editing k =  3\n",
      "Number of matches this class:  42  after editing k =  9\n",
      "Number of matches this class:  7  after editing k =  2\n",
      "Number of matches this class:  34  after editing k =  7\n"
     ]
    },
    {
     "ename": "ValueError",
     "evalue": "cannot reshape array of size 27 into shape (384,27)",
     "output_type": "error",
     "traceback": [
      "\u001b[0;31m---------------------------------------------------------------------------\u001b[0m",
      "\u001b[0;31mValueError\u001b[0m                                Traceback (most recent call last)",
      "Cell \u001b[0;32mIn [107], line 1\u001b[0m\n\u001b[0;32m----> 1\u001b[0m [X,Y]\u001b[38;5;241m=\u001b[39m\u001b[43mcreate_dataset_wrt_k\u001b[49m\u001b[43m(\u001b[49m\u001b[38;5;241;43m20\u001b[39;49m\u001b[43m,\u001b[49m\u001b[38;5;28;43;01mTrue\u001b[39;49;00m\u001b[43m,\u001b[49m\u001b[43mnumber_of_matches_between_every_image_with_className\u001b[49m\u001b[43m,\u001b[49m\u001b[43mclass_names\u001b[49m\u001b[43m,\u001b[49m\u001b[43mclass_name_of_each_rowImg\u001b[49m\u001b[43m)\u001b[49m\n",
      "Cell \u001b[0;32mIn [106], line 34\u001b[0m, in \u001b[0;36mcreate_dataset_wrt_k\u001b[0;34m(k_given, percentage, number_of_matches_between_every_image_with_className, class_names, class_name_of_each_rowImg)\u001b[0m\n\u001b[1;32m     31\u001b[0m     X\u001b[38;5;241m.\u001b[39mappend(x)\n\u001b[1;32m     32\u001b[0m     Y\u001b[38;5;241m.\u001b[39mappend(number_of_matches_between_every_image_with_className[mainImgNumber,TotalImage])\n\u001b[0;32m---> 34\u001b[0m X\u001b[38;5;241m=\u001b[39m\u001b[43mnp\u001b[49m\u001b[38;5;241;43m.\u001b[39;49m\u001b[43mreshape\u001b[49m\u001b[43m(\u001b[49m\u001b[43mX\u001b[49m\u001b[43m,\u001b[49m\u001b[43m(\u001b[49m\u001b[43mTotalImage\u001b[49m\u001b[43m,\u001b[49m\u001b[38;5;28;43mlen\u001b[39;49m\u001b[43m(\u001b[49m\u001b[43mclass_names\u001b[49m\u001b[43m)\u001b[49m\u001b[43m)\u001b[49m\u001b[43m)\u001b[49m\n\u001b[1;32m     35\u001b[0m Y\u001b[38;5;241m=\u001b[39mnp\u001b[38;5;241m.\u001b[39mreshape(Y,(TotalImage,\u001b[38;5;241m1\u001b[39m))\n\u001b[1;32m     36\u001b[0m \u001b[38;5;28mprint\u001b[39m(X\u001b[38;5;241m.\u001b[39mshape)\n",
      "File \u001b[0;32m<__array_function__ internals>:180\u001b[0m, in \u001b[0;36mreshape\u001b[0;34m(*args, **kwargs)\u001b[0m\n",
      "File \u001b[0;32m~/.local/lib/python3.10/site-packages/numpy/core/fromnumeric.py:298\u001b[0m, in \u001b[0;36mreshape\u001b[0;34m(a, newshape, order)\u001b[0m\n\u001b[1;32m    198\u001b[0m \u001b[38;5;129m@array_function_dispatch\u001b[39m(_reshape_dispatcher)\n\u001b[1;32m    199\u001b[0m \u001b[38;5;28;01mdef\u001b[39;00m \u001b[38;5;21mreshape\u001b[39m(a, newshape, order\u001b[38;5;241m=\u001b[39m\u001b[38;5;124m'\u001b[39m\u001b[38;5;124mC\u001b[39m\u001b[38;5;124m'\u001b[39m):\n\u001b[1;32m    200\u001b[0m     \u001b[38;5;124;03m\"\"\"\u001b[39;00m\n\u001b[1;32m    201\u001b[0m \u001b[38;5;124;03m    Gives a new shape to an array without changing its data.\u001b[39;00m\n\u001b[1;32m    202\u001b[0m \n\u001b[0;32m   (...)\u001b[0m\n\u001b[1;32m    296\u001b[0m \u001b[38;5;124;03m           [5, 6]])\u001b[39;00m\n\u001b[1;32m    297\u001b[0m \u001b[38;5;124;03m    \"\"\"\u001b[39;00m\n\u001b[0;32m--> 298\u001b[0m     \u001b[38;5;28;01mreturn\u001b[39;00m \u001b[43m_wrapfunc\u001b[49m\u001b[43m(\u001b[49m\u001b[43ma\u001b[49m\u001b[43m,\u001b[49m\u001b[43m \u001b[49m\u001b[38;5;124;43m'\u001b[39;49m\u001b[38;5;124;43mreshape\u001b[39;49m\u001b[38;5;124;43m'\u001b[39;49m\u001b[43m,\u001b[49m\u001b[43m \u001b[49m\u001b[43mnewshape\u001b[49m\u001b[43m,\u001b[49m\u001b[43m \u001b[49m\u001b[43morder\u001b[49m\u001b[38;5;241;43m=\u001b[39;49m\u001b[43morder\u001b[49m\u001b[43m)\u001b[49m\n",
      "File \u001b[0;32m~/.local/lib/python3.10/site-packages/numpy/core/fromnumeric.py:54\u001b[0m, in \u001b[0;36m_wrapfunc\u001b[0;34m(obj, method, *args, **kwds)\u001b[0m\n\u001b[1;32m     52\u001b[0m bound \u001b[38;5;241m=\u001b[39m \u001b[38;5;28mgetattr\u001b[39m(obj, method, \u001b[38;5;28;01mNone\u001b[39;00m)\n\u001b[1;32m     53\u001b[0m \u001b[38;5;28;01mif\u001b[39;00m bound \u001b[38;5;129;01mis\u001b[39;00m \u001b[38;5;28;01mNone\u001b[39;00m:\n\u001b[0;32m---> 54\u001b[0m     \u001b[38;5;28;01mreturn\u001b[39;00m \u001b[43m_wrapit\u001b[49m\u001b[43m(\u001b[49m\u001b[43mobj\u001b[49m\u001b[43m,\u001b[49m\u001b[43m \u001b[49m\u001b[43mmethod\u001b[49m\u001b[43m,\u001b[49m\u001b[43m \u001b[49m\u001b[38;5;241;43m*\u001b[39;49m\u001b[43margs\u001b[49m\u001b[43m,\u001b[49m\u001b[43m \u001b[49m\u001b[38;5;241;43m*\u001b[39;49m\u001b[38;5;241;43m*\u001b[39;49m\u001b[43mkwds\u001b[49m\u001b[43m)\u001b[49m\n\u001b[1;32m     56\u001b[0m \u001b[38;5;28;01mtry\u001b[39;00m:\n\u001b[1;32m     57\u001b[0m     \u001b[38;5;28;01mreturn\u001b[39;00m bound(\u001b[38;5;241m*\u001b[39margs, \u001b[38;5;241m*\u001b[39m\u001b[38;5;241m*\u001b[39mkwds)\n",
      "File \u001b[0;32m~/.local/lib/python3.10/site-packages/numpy/core/fromnumeric.py:43\u001b[0m, in \u001b[0;36m_wrapit\u001b[0;34m(obj, method, *args, **kwds)\u001b[0m\n\u001b[1;32m     41\u001b[0m \u001b[38;5;28;01mexcept\u001b[39;00m \u001b[38;5;167;01mAttributeError\u001b[39;00m:\n\u001b[1;32m     42\u001b[0m     wrap \u001b[38;5;241m=\u001b[39m \u001b[38;5;28;01mNone\u001b[39;00m\n\u001b[0;32m---> 43\u001b[0m result \u001b[38;5;241m=\u001b[39m \u001b[38;5;28;43mgetattr\u001b[39;49m\u001b[43m(\u001b[49m\u001b[43masarray\u001b[49m\u001b[43m(\u001b[49m\u001b[43mobj\u001b[49m\u001b[43m)\u001b[49m\u001b[43m,\u001b[49m\u001b[43m \u001b[49m\u001b[43mmethod\u001b[49m\u001b[43m)\u001b[49m\u001b[43m(\u001b[49m\u001b[38;5;241;43m*\u001b[39;49m\u001b[43margs\u001b[49m\u001b[43m,\u001b[49m\u001b[43m \u001b[49m\u001b[38;5;241;43m*\u001b[39;49m\u001b[38;5;241;43m*\u001b[39;49m\u001b[43mkwds\u001b[49m\u001b[43m)\u001b[49m\n\u001b[1;32m     44\u001b[0m \u001b[38;5;28;01mif\u001b[39;00m wrap:\n\u001b[1;32m     45\u001b[0m     \u001b[38;5;28;01mif\u001b[39;00m \u001b[38;5;129;01mnot\u001b[39;00m \u001b[38;5;28misinstance\u001b[39m(result, mu\u001b[38;5;241m.\u001b[39mndarray):\n",
      "\u001b[0;31mValueError\u001b[0m: cannot reshape array of size 27 into shape (384,27)"
     ]
    }
   ],
   "source": [
    "[X,Y]=create_dataset_wrt_k(20,False,number_of_matches_between_every_image_with_className,class_names,class_name_of_each_rowImg)"
   ]
  },
  {
   "cell_type": "code",
   "execution_count": null,
   "id": "2f48d76c",
   "metadata": {},
   "outputs": [],
   "source": []
  }
 ],
 "metadata": {
  "kernelspec": {
   "display_name": "Python 3 (ipykernel)",
   "language": "python",
   "name": "python3"
  },
  "language_info": {
   "codemirror_mode": {
    "name": "ipython",
    "version": 3
   },
   "file_extension": ".py",
   "mimetype": "text/x-python",
   "name": "python",
   "nbconvert_exporter": "python",
   "pygments_lexer": "ipython3",
   "version": "3.10.6"
  }
 },
 "nbformat": 4,
 "nbformat_minor": 5
}
