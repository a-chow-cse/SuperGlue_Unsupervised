{
 "cells": [
  {
   "cell_type": "code",
   "execution_count": 1,
   "id": "a4715697",
   "metadata": {},
   "outputs": [],
   "source": [
    "import os\n",
    "import matplotlib.pyplot as plt\n",
    "from itertools import combinations\n",
    "import numpy as np\n",
    "from PIL import Image as im\n",
    "from PIL import Image\n",
    "import shutil"
   ]
  },
  {
   "cell_type": "code",
   "execution_count": 3,
   "id": "c77337ab",
   "metadata": {},
   "outputs": [],
   "source": [
    "root=os.getcwd()\n",
    "os.makedirs(\"Experiment2/All_Butter_Fly_Images\",exist_ok=True)\n",
    "All_Images_Folder=root+\"/Experiment2/All_Butter_Fly_Images/\"\n",
    "Original_Image_Folder=root+\"/ButterFly/\"\n",
    "\n",
    "#copyAllImages(Original_Image_Folder,All_Images_Folder)"
   ]
  },
  {
   "cell_type": "code",
   "execution_count": 20,
   "id": "f0e0af1b",
   "metadata": {},
   "outputs": [],
   "source": [
    "def copyAllImages(Original_Image_Folder,target_Folder):\n",
    "    count=0\n",
    "    for file in os.scandir(Original_Image_Folder):\n",
    "        if file.is_dir():\n",
    "            count=count+copyAllImages(file,target_Folder)\n",
    "        else:\n",
    "            shutil.copy(file, target_Folder)\n",
    "            count=count+1\n",
    "    return count"
   ]
  },
  {
   "cell_type": "code",
   "execution_count": 35,
   "id": "416baaf7",
   "metadata": {},
   "outputs": [
    {
     "name": "stdout",
     "output_type": "stream",
     "text": [
      "147072\n"
     ]
    }
   ],
   "source": [
    "#make pair file\n",
    "f=open(root+\"/Experiment2/Experiment2_pairs.txt\",'w')\n",
    "count=0\n",
    "\n",
    "for file in os.scandir(All_Images_Folder):\n",
    "    for file2 in os.scandir(All_Images_Folder):\n",
    "        if file.name== file2.name:\n",
    "            continue\n",
    "        else:\n",
    "            im1_path=file.path.removeprefix(root+\"/\")\n",
    "            im2_path=file2.path.removeprefix(root+\"/\")\n",
    "            f.write(im1_path+\" \"+im2_path+\"\\n\")\n",
    "            count=count+1;\n",
    "print(count)\n",
    "f.close()"
   ]
  },
  {
   "cell_type": "code",
   "execution_count": 9,
   "id": "2c817fde",
   "metadata": {},
   "outputs": [
    {
     "name": "stdout",
     "output_type": "stream",
     "text": [
      "33073\n"
     ]
    }
   ],
   "source": [
    "file1=open(root+\"/Experiment2/Experiment2_pairs.txt\",'r')\n",
    "file2=open(root+\"/Experiment2/Experiment2_pairs_left.txt\",'w')\n",
    "Lines = file1.readlines()\n",
    "  \n",
    "count = 0\n",
    "for line in Lines:\n",
    "    count += 1\n",
    "    if count <114000:\n",
    "        continue;\n",
    "    else:\n",
    "        file2.write(line)\n",
    "file1.close()\n",
    "file2.close()\n",
    "\n",
    "file2=open(root+\"/Experiment2/Experiment2_pairs_left.txt\",'r')\n",
    "Lines=file2.readlines()\n",
    "count=0\n",
    "for line in Lines:\n",
    "    count+=1\n",
    "print(count)"
   ]
  },
  {
   "cell_type": "code",
   "execution_count": 25,
   "id": "5a86f6e9",
   "metadata": {},
   "outputs": [],
   "source": [
    "def createNpzFileWithClassName(Original_Image_Folder,class_name,file_class_list):\n",
    "    for file in os.scandir(Original_Image_Folder):\n",
    "        if file.is_dir():\n",
    "            file_class_list=createNpzFileWithClassName(file,file.name,file_class_list)\n",
    "        else:\n",
    "            file_class_list.append([file.name,class_name])\n",
    "    return file_class_list"
   ]
  },
  {
   "cell_type": "code",
   "execution_count": 58,
   "id": "09a89f34",
   "metadata": {},
   "outputs": [
    {
     "name": "stdout",
     "output_type": "stream",
     "text": [
      "384\n"
     ]
    }
   ],
   "source": [
    "file_class_list=[]\n",
    "file_class_list=createNpzFileWithClassName(Original_Image_Folder,\"\",file_class_list)\n",
    "imgName_className = np.array(file_class_list)\n",
    "[row,col]=imgName_className.shape\n",
    "\n",
    "count=0\n",
    "\n",
    "for i in range(row):\n",
    "    for j in range(row):\n",
    "        if imgName_className[i,0]==imgName_className[j,0]:\n",
    "            continue\n",
    "        else:\n",
    "            count+=1\n",
    "print(len(file_class_list))\n",
    "np.savez(\"Experiment2/ImageName_ClassName_List\", imgName_className)"
   ]
  },
  {
   "cell_type": "code",
   "execution_count": 103,
   "id": "87b8a1d4",
   "metadata": {},
   "outputs": [],
   "source": [
    "file1=open(root+\"/Experiment2/Experiment2_pairs.txt\",'r')\n",
    "Lines = file1.readlines()\n",
    "count=0\n",
    "npzTableWithClass=np.zeros((384,385),dtype='U100')\n",
    "\n",
    "for line in Lines:\n",
    "    count+=1\n",
    "    words=line.split()\n",
    "    image_1_name=words[0].removeprefix(\"Experiment2/All_Butter_Fly_Images/\")\n",
    "    image_1_name=image_1_name.removesuffix(\".png\")\n",
    "    image_2_name=words[1].removeprefix(\"Experiment2/All_Butter_Fly_Images/\")\n",
    "    image_2_name=image_2_name.removesuffix(\".png\")\n",
    "    path=\"Experiment2/All_npzs/\"+image_1_name+\"_\"+image_2_name+\"_matches.npz\"\n",
    "    [ClassName_of_img1,img1Pos]=getClassName(image_1_name+\".png\",imgName_className)\n",
    "    [ClassName_of_img2,img2Pos]=getClassName(image_2_name+\".png\",imgName_className)\n",
    "    npzTableWithClass[img1Pos,img2Pos]=path\n",
    "    npzTableWithClass[img1Pos,384]=ClassName_of_img1\n",
    "               "
   ]
  },
  {
   "cell_type": "code",
   "execution_count": 59,
   "id": "8ba6d7d4",
   "metadata": {},
   "outputs": [],
   "source": [
    "def getClassName(str,imgName_className):\n",
    "    [row, col]=imgName_className.shape\n",
    "    for r in range(row):\n",
    "        if imgName_className[r,0] == str:\n",
    "            return imgName_className[r,1],r\n",
    "        else:\n",
    "            continue"
   ]
  },
  {
   "cell_type": "code",
   "execution_count": 105,
   "id": "a2e11117",
   "metadata": {},
   "outputs": [
    {
     "name": "stdout",
     "output_type": "stream",
     "text": [
      "384\n"
     ]
    }
   ],
   "source": [
    "no_string=0\n",
    "for i in range(384):\n",
    "    for j in range(385):\n",
    "        #print(npzTableWithClass[i,j])\n",
    "        if npzTableWithClass[i,j]==\"\":\n",
    "            no_string+=1\n",
    "print(no_string)\n",
    "np.savez(\"Experiment2/2D_list_of_all_npzs_with_class\", npzTableWithClass)    "
   ]
  },
  {
   "cell_type": "code",
   "execution_count": 107,
   "id": "2ce80bcc",
   "metadata": {},
   "outputs": [],
   "source": [
    "import numpy as np\n",
    "\n",
    "path = 'Experiment2/MatchNumbersTable.npz'\n",
    "npzMatch = np.load(path)\n",
    "path = 'Experiment2/2D_list_of_all_npzs_with_class.npz'\n",
    "npz = np.load(path)\n",
    "class_name_indexed=npz['arr_0'][:,384]\n",
    "class_name_set=list(set(class_name_indexed))\n"
   ]
  },
  {
   "cell_type": "code",
   "execution_count": 368,
   "id": "3358753f",
   "metadata": {},
   "outputs": [],
   "source": [
    "import math\n",
    "def getPredictedResults(matchValueArray, class_name_indexed,how_much_to_consider,current_index):\n",
    "    \n",
    "    predicIndex=0\n",
    "    originalIndex=0\n",
    "    \n",
    "    \n",
    "    dic= {}\n",
    "    for i in range(384):\n",
    "        dic[i]=[]\n",
    "        dic[i].append(matchValueArray[i])\n",
    "        \n",
    "    dic=dict(sorted(dic.items(), key=lambda item: item[1],reverse=True))\n",
    "    #how_much_to_consider=math.ceil(len(dic)*.2)\n",
    "    firstNvals = [v for v in list(dic.keys())[:how_much_to_consider]]\n",
    "    results=list(class_name_indexed[firstNvals])\n",
    "    \n",
    "    ans=max(results,key=results.count)\n",
    "    if ans== class_name_indexed[current_index]:\n",
    "        return 1,originalIndex,predicIndex\n",
    "    else:\n",
    "        for j in range(27):\n",
    "            if class_name_set[j]==ans:\n",
    "                predicIndex=j\n",
    "            if class_name_indexed[current_index]==class_name_set[j]:\n",
    "                originalIndex=j\n",
    "        return 0,originalIndex,predicIndex\n"
   ]
  },
  {
   "cell_type": "code",
   "execution_count": 369,
   "id": "6de4753e",
   "metadata": {},
   "outputs": [],
   "source": [
    "def do_knn(k):\n",
    "    rows, cols = (27, 27)\n",
    "    arr = list(np.zeros((rows,cols)))\n",
    "    accurate_results=0\n",
    "    y=list(np.zeros(len(class_name_set)))\n",
    "\n",
    "    for i in range(384):\n",
    "        matchValueArray=npzMatch['arr_0'][i,:]\n",
    "        [res,originalIndex,predicIndex]=getPredictedResults(matchValueArray,class_name_indexed,k,i)\n",
    "        if res!=1:\n",
    "            y[class_name_set.index(class_name_indexed[i])]+=1\n",
    "            arr[originalIndex][predicIndex]+=1\n",
    "        accurate_results+=res\n",
    "        \n",
    "    print(\"overall_accuracy = \",(accurate_results/384)*100)\n",
    "    print(\"wrongly Answered:\" ,384-accurate_results)\n",
    "    \n",
    "#    for i in range(27):\n",
    "#        for j in range(27):\n",
    "#            if arr[i][j]!=0:\n",
    "#                print()\n",
    "#                print(class_name_set[i],\" = \",end=' ')\n",
    "#                break\n",
    "#        for j in range(27):\n",
    "#            if arr[i][j]!=0:\n",
    "#                print(class_name_set[j],\"= \",arr[i][j],\",\",end=' ')\n",
    "\n",
    "    mimic_pair_error=0\n",
    "    \n",
    "    for i in range(12):\n",
    "        for j in range(27):\n",
    "            if class_name_set[j] == mimic_pairs[i][0]:\n",
    "                for k in range(27):\n",
    "                    if class_name_set[k] == mimic_pairs[i][1] and arr[j][k]!=0:\n",
    "                        mimic_pair_error+=arr[j][k]\n",
    "        for j in range(27):\n",
    "            if class_name_set[j] == mimic_pairs[i][1]:\n",
    "                for k in range(27):\n",
    "                    if class_name_set[k] == mimic_pairs[i][0] and arr[k][j]!=0:\n",
    "                        mimic_pair_error+=arr[k][j]  \n",
    "    print(\"mimic_pair_accuracy = \",((404-mimic_pair_error)/404)*100)\n",
    "    print(\"wrn: \",mimic_pair_error)\n",
    "    #return y"
   ]
  },
  {
   "cell_type": "code",
   "execution_count": 370,
   "id": "edc38c35",
   "metadata": {},
   "outputs": [
    {
     "name": "stdout",
     "output_type": "stream",
     "text": [
      "overall_accuracy =  87.23958333333334\n",
      "wrongly Answered: 49\n",
      "mimic_pair_accuracy =  99.5049504950495\n",
      "wrn:  2.0\n"
     ]
    }
   ],
   "source": [
    "#print(class_name_indexed.shape)\n",
    "do_knn(4)"
   ]
  },
  {
   "cell_type": "code",
   "execution_count": 341,
   "id": "cad6cb24",
   "metadata": {},
   "outputs": [
    {
     "name": "stdout",
     "output_type": "stream",
     "text": [
      "86.45833333333334\n",
      "wrongly Answered: 52\n",
      "\n",
      "erato_etylus  =  erato_lativitta =  2.0 , erato_emma =  1.0 , \n",
      "melpomene_ecuadorensis  =  melpomene_schunkei =  3.0 , melpomene_aglaope =  2.0 , \n",
      "erato_petiverana  =  erato_hydara =  1.0 , \n",
      "erato_venus  =  erato_petiverana =  1.0 , erato_hydara =  1.0 , erato_favorinus =  2.0 , erato_phyllis =  1.0 , \n",
      "melpomene_xenoclea  =  melpomene_plesseni =  1.0 , \n",
      "erato_guarica  =  erato_hydara =  2.0 , \n",
      "erato_microclea  =  melpomene_xenoclea =  1.0 , \n",
      "melpomene_melpomene  =  erato_hydara =  1.0 , melpomene_rosina_S =  1.0 , melpomene_vulcanus =  1.0 , \n",
      "erato_emma  =  erato_lativitta =  2.0 , \n",
      "melpomene_schunkei  =  melpomene_ecuadorensis =  1.0 , melpomene_aglaope =  3.0 , \n",
      "melpomene_rosina_N  =  melpomene_amaryllis =  1.0 , melpomene_rosina_S =  2.0 , melpomene_vulcanus =  1.0 , \n",
      "erato_notabilis  =  melpomene_plesseni =  3.0 , \n",
      "erato_erato  =  erato_lativitta =  1.0 , \n",
      "erato_colombina  =  erato_petiverana =  1.0 , erato_hydara =  1.0 , \n",
      "erato_luscombei  =  erato_lativitta =  3.0 , \n",
      "melpomene_rosina_S  =  melpomene_amaryllis =  1.0 , melpomene_rosina_N =  4.0 , melpomene_nanna =  1.0 , \n",
      "melpomene_aglaope  =  melpomene_schunkei =  3.0 , \n",
      "melpomene_vulcanus  =  melpomene_amaryllis =  3.0 , "
     ]
    },
    {
     "data": {
      "image/png": "[encoded data removed]",
      "text/plain": [
       "<Figure size 640x480 with 1 Axes>"
      ]
     },
     "metadata": {},
     "output_type": "display_data"
    },
    {
     "name": "stdout",
     "output_type": "stream",
     "text": [
      "0.0\n"
     ]
    }
   ],
   "source": [
    "from datetime import datetime, timedelta\n",
    "from matplotlib import pyplot as plt\n",
    "from matplotlib import dates as mpl_dates\n",
    "\n",
    "\n",
    "#plt.barh(class_name_set,do_knn(1),label = \"k=1, 85.94%\")\n",
    "plt.barh(class_name_set,do_knn(3),label = \"k=3, 86.45%\")\n",
    "#plt.plot(do_knn(3),class_name_set,label = \"k=3, 86.46%\")\n",
    "#plt.plot(do_knn(4),class_name_set,label = \"k=4, 87.24%\")\n",
    "plt.tick_params(axis='y', which='major', labelsize=8)\n",
    "\n",
    "# Avoid overlapping\n",
    "\n",
    "plt.gcf().autofmt_xdate()\n",
    "plt.legend()\n",
    "\n",
    "# Visualize\n",
    "\n",
    "plt.show()\n",
    "print(sum(y))"
   ]
  },
  {
   "cell_type": "code",
   "execution_count": 290,
   "id": "8408940b",
   "metadata": {},
   "outputs": [
    {
     "name": "stdout",
     "output_type": "stream",
     "text": [
      "erato_hydara\n"
     ]
    }
   ],
   "source": [
    "mimic_pairs=\\\n",
    "[[\"erato_petiverana\",\"melpomene_rosina_S\"],\n",
    "[\"erato_hydara\",\"melpomene_melpomene\"],\n",
    "[\"erato_venus\",\"melpomene_vulcanus\"],\n",
    "[\"erato_cyrbia\",\"melpomene_cythera\"],\n",
    "[\"erato_notabilis\",\"melpomene_plesseni\" ],\n",
    "[\"erato_etylus\",\"melpomene_ecuadorensis\"],\n",
    "[\"erato_emma\",\"melpomene_aglaope\"],\n",
    "[\"erato_favorinus\",\"melpomene_amaryllis\"],\n",
    "[\"erato_microclea\",\"melpomene_xenoclea\"],\n",
    "[\"erato_luscombei\",\"melpomene_schunkei\"],\n",
    "[\"erato_phyllis\",\"Burchelli\"],\n",
    "[\"erato_phyllis\",\"melpomene_nanna\"]]\n",
    "print(mimic_pairs[1][0])"
   ]
  },
  {
   "cell_type": "code",
   "execution_count": 327,
   "id": "c4423660",
   "metadata": {},
   "outputs": [],
   "source": [
    "import math\n",
    "def getPredictedResultsM(matchValueArray, class_name_indexed,how_much_to_consider,current_index,pairN1,pairN2):\n",
    "    \n",
    "    predicIndex=0\n",
    "    originalIndex=0\n",
    "    \n",
    "    \n",
    "    dic= {}\n",
    "    for i in range(384):\n",
    "        if class_name_indexed[i]==pairN1 or class_name_indexed[i]==pairN2:\n",
    "            dic[i]=[]\n",
    "            dic[i].append(matchValueArray[i])\n",
    "        \n",
    "    dic=dict(sorted(dic.items(), key=lambda item: item[1],reverse=True))\n",
    "    how_much_to_consider=math.ceil(len(dic)*(how_much_to_consider/100))\n",
    "    #how_much_to_consider=len(dic)\n",
    "    firstNvals = [v for v in list(dic.keys())[:how_much_to_consider]]\n",
    "    results=list(class_name_indexed[firstNvals])\n",
    "    \n",
    "    ans=max(results,key=results.count)\n",
    "    if ans== class_name_indexed[current_index]:\n",
    "        return 1,originalIndex,predicIndex\n",
    "    else:\n",
    "        print(class_name_indexed[current_index],\"= \",results)\n",
    "        for j in range(27):\n",
    "            if class_name_set[j]==ans:\n",
    "                predicIndex=j\n",
    "            if class_name_indexed[current_index]==class_name_set[j]:\n",
    "                originalIndex=j\n",
    "        return 0,originalIndex,predicIndex"
   ]
  },
  {
   "cell_type": "code",
   "execution_count": 328,
   "id": "b30f6627",
   "metadata": {},
   "outputs": [
    {
     "name": "stdout",
     "output_type": "stream",
     "text": [
      "melpomene_melpomene =  ['erato_hydara', 'erato_hydara', 'erato_hydara', 'erato_hydara', 'erato_hydara', 'erato_hydara']\n",
      "melpomene_melpomene =  ['melpomene_melpomene', 'erato_hydara', 'erato_hydara', 'erato_hydara', 'erato_hydara', 'erato_hydara']\n",
      "melpomene_melpomene =  ['erato_hydara', 'erato_hydara', 'erato_hydara', 'erato_hydara', 'erato_hydara', 'erato_hydara']\n",
      "erato_venus =  ['erato_venus', 'melpomene_vulcanus', 'melpomene_vulcanus']\n",
      "erato_notabilis =  ['erato_notabilis', 'melpomene_plesseni', 'melpomene_plesseni', 'melpomene_plesseni', 'melpomene_plesseni']\n",
      "erato_emma =  ['melpomene_aglaope']\n",
      "for k= 3, accuracy =  98.51485148514851\n",
      "Total =  404\n",
      "wrongly Answered: 6\n"
     ]
    }
   ],
   "source": [
    "def do_mimic_pair_knn(k):\n",
    "    total_mimic_pair_instance=0\n",
    "    accurate_results=0\n",
    "    for i in range(12):\n",
    "        for j in range(384):\n",
    "            if class_name_indexed[j]==mimic_pairs[i][1] or class_name_indexed[j]==mimic_pairs[i][0]:\n",
    "                total_mimic_pair_instance+=1\n",
    "                matchValueArray=npzMatch['arr_0'][j,:]\n",
    "                [res,originalIndex,predicIndex]=getPredictedResultsM(matchValueArray,class_name_indexed,k,j,mimic_pairs[i][1],mimic_pairs[i][0])\n",
    "                accurate_results+=res\n",
    "            \n",
    "    print(\"for k= 3, accuracy = \",(accurate_results/total_mimic_pair_instance)*100)\n",
    "    print(\"Total = \",total_mimic_pair_instance)\n",
    "    print(\"wrongly Answered:\" ,total_mimic_pair_instance-accurate_results)\n",
    "    \n",
    "do_mimic_pair_knn(10)"
   ]
  },
  {
   "cell_type": "code",
   "execution_count": null,
   "id": "b64441d3",
   "metadata": {},
   "outputs": [],
   "source": []
  },
  {
   "cell_type": "code",
   "execution_count": null,
   "id": "573ebc8c",
   "metadata": {},
   "outputs": [],
   "source": []
  }
 ],
 "metadata": {
  "kernelspec": {
   "display_name": "Python 3 (ipykernel)",
   "language": "python",
   "name": "python3"
  },
  "language_info": {
   "codemirror_mode": {
    "name": "ipython",
    "version": 3
   },
   "file_extension": ".py",
   "mimetype": "text/x-python",
   "name": "python",
   "nbconvert_exporter": "python",
   "pygments_lexer": "ipython3",
   "version": "3.10.6"
  }
 },
 "nbformat": 4,
 "nbformat_minor": 5
}
