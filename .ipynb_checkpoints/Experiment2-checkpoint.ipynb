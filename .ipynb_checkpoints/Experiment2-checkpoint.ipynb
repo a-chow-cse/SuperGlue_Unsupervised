{
 "cells": [
  {
   "cell_type": "code",
   "execution_count": 1,
   "id": "a4715697",
   "metadata": {},
   "outputs": [],
   "source": [
    "import os\n",
    "import matplotlib.pyplot as plt\n",
    "from itertools import combinations\n",
    "import numpy as np\n",
    "from PIL import Image as im\n",
    "from PIL import Image\n",
    "import shutil"
   ]
  },
  {
   "cell_type": "code",
   "execution_count": 3,
   "id": "c77337ab",
   "metadata": {},
   "outputs": [],
   "source": [
    "root=os.getcwd()\n",
    "os.makedirs(\"Experiment2/All_Butter_Fly_Images\",exist_ok=True)\n",
    "All_Images_Folder=root+\"/Experiment2/All_Butter_Fly_Images/\"\n",
    "Original_Image_Folder=root+\"/ButterFly/\"\n",
    "\n",
    "#copyAllImages(Original_Image_Folder,All_Images_Folder)"
   ]
  },
  {
   "cell_type": "code",
   "execution_count": 20,
   "id": "f0e0af1b",
   "metadata": {},
   "outputs": [],
   "source": [
    "def copyAllImages(Original_Image_Folder,target_Folder):\n",
    "    count=0\n",
    "    for file in os.scandir(Original_Image_Folder):\n",
    "        if file.is_dir():\n",
    "            count=count+copyAllImages(file,target_Folder)\n",
    "        else:\n",
    "            shutil.copy(file, target_Folder)\n",
    "            count=count+1\n",
    "    return count"
   ]
  },
  {
   "cell_type": "code",
   "execution_count": 35,
   "id": "416baaf7",
   "metadata": {},
   "outputs": [
    {
     "name": "stdout",
     "output_type": "stream",
     "text": [
      "147072\n"
     ]
    }
   ],
   "source": [
    "#make pair file\n",
    "f=open(root+\"/Experiment2/Experiment2_pairs.txt\",'w')\n",
    "count=0\n",
    "\n",
    "for file in os.scandir(All_Images_Folder):\n",
    "    for file2 in os.scandir(All_Images_Folder):\n",
    "        if file.name== file2.name:\n",
    "            continue\n",
    "        else:\n",
    "            im1_path=file.path.removeprefix(root+\"/\")\n",
    "            im2_path=file2.path.removeprefix(root+\"/\")\n",
    "            f.write(im1_path+\" \"+im2_path+\"\\n\")\n",
    "            count=count+1;\n",
    "print(count)\n",
    "f.close()"
   ]
  },
  {
   "cell_type": "code",
   "execution_count": 9,
   "id": "2c817fde",
   "metadata": {},
   "outputs": [
    {
     "name": "stdout",
     "output_type": "stream",
     "text": [
      "33073\n"
     ]
    }
   ],
   "source": [
    "file1=open(root+\"/Experiment2/Experiment2_pairs.txt\",'r')\n",
    "file2=open(root+\"/Experiment2/Experiment2_pairs_left.txt\",'w')\n",
    "Lines = file1.readlines()\n",
    "  \n",
    "count = 0\n",
    "for line in Lines:\n",
    "    count += 1\n",
    "    if count <114000:\n",
    "        continue;\n",
    "    else:\n",
    "        file2.write(line)\n",
    "file1.close()\n",
    "file2.close()\n",
    "\n",
    "file2=open(root+\"/Experiment2/Experiment2_pairs_left.txt\",'r')\n",
    "Lines=file2.readlines()\n",
    "count=0\n",
    "for line in Lines:\n",
    "    count+=1\n",
    "print(count)"
   ]
  },
  {
   "cell_type": "code",
   "execution_count": 25,
   "id": "5a86f6e9",
   "metadata": {},
   "outputs": [],
   "source": [
    "def createNpzFileWithClassName(Original_Image_Folder,class_name,file_class_list):\n",
    "    for file in os.scandir(Original_Image_Folder):\n",
    "        if file.is_dir():\n",
    "            file_class_list=createNpzFileWithClassName(file,file.name,file_class_list)\n",
    "        else:\n",
    "            file_class_list.append([file.name,class_name])\n",
    "    return file_class_list"
   ]
  },
  {
   "cell_type": "code",
   "execution_count": 58,
   "id": "09a89f34",
   "metadata": {},
   "outputs": [
    {
     "name": "stdout",
     "output_type": "stream",
     "text": [
      "384\n"
     ]
    }
   ],
   "source": [
    "file_class_list=[]\n",
    "file_class_list=createNpzFileWithClassName(Original_Image_Folder,\"\",file_class_list)\n",
    "imgName_className = np.array(file_class_list)\n",
    "[row,col]=imgName_className.shape\n",
    "\n",
    "count=0\n",
    "\n",
    "for i in range(row):\n",
    "    for j in range(row):\n",
    "        if imgName_className[i,0]==imgName_className[j,0]:\n",
    "            continue\n",
    "        else:\n",
    "            count+=1\n",
    "print(len(file_class_list))\n",
    "np.savez(\"Experiment2/ImageName_ClassName_List\", imgName_className)"
   ]
  },
  {
   "cell_type": "code",
   "execution_count": 103,
   "id": "87b8a1d4",
   "metadata": {},
   "outputs": [],
   "source": [
    "file1=open(root+\"/Experiment2/Experiment2_pairs.txt\",'r')\n",
    "Lines = file1.readlines()\n",
    "count=0\n",
    "npzTableWithClass=np.zeros((384,385),dtype='U100')\n",
    "\n",
    "for line in Lines:\n",
    "    count+=1\n",
    "    words=line.split()\n",
    "    image_1_name=words[0].removeprefix(\"Experiment2/All_Butter_Fly_Images/\")\n",
    "    image_1_name=image_1_name.removesuffix(\".png\")\n",
    "    image_2_name=words[1].removeprefix(\"Experiment2/All_Butter_Fly_Images/\")\n",
    "    image_2_name=image_2_name.removesuffix(\".png\")\n",
    "    path=\"Experiment2/All_npzs/\"+image_1_name+\"_\"+image_2_name+\"_matches.npz\"\n",
    "    [ClassName_of_img1,img1Pos]=getClassName(image_1_name+\".png\",imgName_className)\n",
    "    [ClassName_of_img2,img2Pos]=getClassName(image_2_name+\".png\",imgName_className)\n",
    "    npzTableWithClass[img1Pos,img2Pos]=path\n",
    "    npzTableWithClass[img1Pos,384]=ClassName_of_img1\n",
    "               "
   ]
  },
  {
   "cell_type": "code",
   "execution_count": 59,
   "id": "8ba6d7d4",
   "metadata": {},
   "outputs": [],
   "source": [
    "def getClassName(str,imgName_className):\n",
    "    [row, col]=imgName_className.shape\n",
    "    for r in range(row):\n",
    "        if imgName_className[r,0] == str:\n",
    "            return imgName_className[r,1],r\n",
    "        else:\n",
    "            continue"
   ]
  },
  {
   "cell_type": "code",
   "execution_count": 105,
   "id": "a2e11117",
   "metadata": {},
   "outputs": [
    {
     "name": "stdout",
     "output_type": "stream",
     "text": [
      "384\n"
     ]
    }
   ],
   "source": [
    "no_string=0\n",
    "for i in range(384):\n",
    "    for j in range(385):\n",
    "        #print(npzTableWithClass[i,j])\n",
    "        if npzTableWithClass[i,j]==\"\":\n",
    "            no_string+=1\n",
    "print(no_string)\n",
    "np.savez(\"Experiment2/2D_list_of_all_npzs_with_class\", npzTableWithClass)    "
   ]
  },
  {
   "cell_type": "code",
   "execution_count": 2,
   "id": "2ce80bcc",
   "metadata": {},
   "outputs": [
    {
     "data": {
      "text/plain": [
       "(384, 384)"
      ]
     },
     "execution_count": 2,
     "metadata": {},
     "output_type": "execute_result"
    }
   ],
   "source": [
    "import numpy as np\n",
    "\n",
    "path = 'Experiment2/MatchNumbersTable.npz'\n",
    "npz = np.load(path)\n",
    "npz['arr_0'].shape"
   ]
  },
  {
   "cell_type": "code",
   "execution_count": 4,
   "id": "5ebeada6",
   "metadata": {},
   "outputs": [
    {
     "name": "stdout",
     "output_type": "stream",
     "text": [
      "<numpy.lib.npyio.NpzFile object at 0x7f4a497912d0>\n"
     ]
    }
   ],
   "source": [
    "path = 'Experiment2/2D_list_of_all_npzs_with_class.npz'\n",
    "npz = np.load(path)\n",
    "print(npz)"
   ]
  },
  {
   "cell_type": "code",
   "execution_count": null,
   "id": "a7fee7f8",
   "metadata": {},
   "outputs": [],
   "source": []
  }
 ],
 "metadata": {
  "kernelspec": {
   "display_name": "Python 3 (ipykernel)",
   "language": "python",
   "name": "python3"
  },
  "language_info": {
   "codemirror_mode": {
    "name": "ipython",
    "version": 3
   },
   "file_extension": ".py",
   "mimetype": "text/x-python",
   "name": "python",
   "nbconvert_exporter": "python",
   "pygments_lexer": "ipython3",
   "version": "3.10.6"
  }
 },
 "nbformat": 4,
 "nbformat_minor": 5
}
